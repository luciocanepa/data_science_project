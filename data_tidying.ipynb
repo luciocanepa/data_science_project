{
 "cells": [
  {
   "cell_type": "markdown",
   "id": "3797c84a",
   "metadata": {},
   "source": [
    "Data Tidying\n"
   ]
  },
  {
   "cell_type": "code",
   "execution_count": 12,
   "id": "d2b62b2d",
   "metadata": {},
   "outputs": [
    {
     "data": {
      "application/vnd.microsoft.datawrangler.viewer.v0+json": {
       "columns": [
        {
         "name": "index",
         "rawType": "int64",
         "type": "integer"
        },
        {
         "name": "PLAYER_ID",
         "rawType": "int64",
         "type": "integer"
        },
        {
         "name": "PLAYER_NAME",
         "rawType": "object",
         "type": "string"
        },
        {
         "name": "SEASON",
         "rawType": "object",
         "type": "string"
        },
        {
         "name": "SEASON_NUM",
         "rawType": "float64",
         "type": "float"
        },
        {
         "name": "AGE",
         "rawType": "float64",
         "type": "float"
        },
        {
         "name": "PLAYER_HEIGHT_INCHES",
         "rawType": "object",
         "type": "string"
        },
        {
         "name": "PLAYER_WEIGHT",
         "rawType": "object",
         "type": "string"
        },
        {
         "name": "GP",
         "rawType": "int64",
         "type": "integer"
        },
        {
         "name": "MIN",
         "rawType": "float64",
         "type": "float"
        },
        {
         "name": "USG_PCT",
         "rawType": "float64",
         "type": "float"
        },
        {
         "name": "PACE",
         "rawType": "float64",
         "type": "float"
        },
        {
         "name": "POSS",
         "rawType": "int64",
         "type": "integer"
        },
        {
         "name": "FGA_PG",
         "rawType": "float64",
         "type": "float"
        },
        {
         "name": "DRIVES",
         "rawType": "float64",
         "type": "float"
        },
        {
         "name": "DRIVE_FGA",
         "rawType": "float64",
         "type": "float"
        },
        {
         "name": "DRIVE_PASSES",
         "rawType": "float64",
         "type": "float"
        },
        {
         "name": "DIST_MILES",
         "rawType": "object",
         "type": "string"
        },
        {
         "name": "AVG_SPEED",
         "rawType": "object",
         "type": "string"
        },
        {
         "name": "PULL_UP_FGA",
         "rawType": "float64",
         "type": "float"
        },
        {
         "name": "PULL_UP_FG3A",
         "rawType": "object",
         "type": "string"
        },
        {
         "name": "TOUCHES",
         "rawType": "float64",
         "type": "float"
        },
        {
         "name": "FRONT_CT_TOUCHES",
         "rawType": "float64",
         "type": "float"
        },
        {
         "name": "AVG_SEC_PER_TOUCH",
         "rawType": "float64",
         "type": "float"
        },
        {
         "name": "AVG_DRIB_PER_TOUCH",
         "rawType": "float64",
         "type": "float"
        },
        {
         "name": "ELBOW_TOUCHES",
         "rawType": "float64",
         "type": "float"
        },
        {
         "name": "POST_TOUCHES",
         "rawType": "float64",
         "type": "float"
        },
        {
         "name": "PAINT_TOUCHES",
         "rawType": "float64",
         "type": "float"
        },
        {
         "name": "TEAM",
         "rawType": "object",
         "type": "string"
        },
        {
         "name": "INJURED ON",
         "rawType": "object",
         "type": "string"
        },
        {
         "name": "RETURNED",
         "rawType": "object",
         "type": "string"
        },
        {
         "name": "DAYS MISSED",
         "rawType": "float64",
         "type": "float"
        },
        {
         "name": "INJURED_TYPE",
         "rawType": "object",
         "type": "string"
        }
       ],
       "conversionMethod": "pd.DataFrame",
       "ref": "615bdfef-70fb-4afe-81a8-169172a8aec3",
       "rows": [
        [
         "0",
         "1630639",
         "A.J. Lawson",
         "22-23",
         "22.5",
         "22.0",
         " 78",
         " 179",
         "13",
         "4.8",
         "0.182",
         "106.08",
         "139",
         "2.0",
         "0.1",
         "0.0",
         "0.1",
         "0.39",
         "4.49",
         "0.2",
         " 0.1",
         "4.8",
         "3.2",
         "1.39",
         "0.62",
         "0.0",
         "0.0",
         "0.2",
         "Knicks",
         "2022-04-10",
         "2020-07-31",
         "4.0",
         "Sprained_ankle"
        ],
        [
         "1",
         "1631260",
         "AJ Green",
         "22-23",
         "22.5",
         "23.0",
         " 77",
         " 190",
         "32",
         "9.4",
         "0.16",
         "102.85",
         "651",
         "3.4",
         "0.3",
         "0.0",
         "0.3",
         "0.74",
         "4.36",
         "1.1",
         " 0.7",
         "11.9",
         "7.3",
         "2.61",
         "1.84",
         "0.1",
         "0.0",
         "0.3",
         "Knicks",
         "2022-04-10",
         "2020-07-31",
         "4.0",
         "Sprained_ankle"
        ],
        [
         "2",
         "1631100",
         "AJ Griffin",
         "22-23",
         "22.5",
         "19.0",
         " 78",
         " 220",
         "66",
         "19.4",
         "0.174",
         "102.71",
         "2749",
         "7.4",
         "2.8",
         "1.8",
         "0.7",
         "1.58",
         "4.56",
         "2.5",
         " 0.8",
         "21.1",
         "14.2",
         "2.08",
         "1.49",
         "0.4",
         "0.0",
         "0.7",
         "Knicks",
         "2022-04-10",
         "2020-07-31",
         "4.0",
         "Sprained_ankle"
        ],
        [
         "3",
         "203932",
         "Aaron Gordon",
         "22-23",
         "22.5",
         "27.0",
         " 80",
         " 235",
         "61",
         "30.1",
         "0.206",
         "100.06",
         "3828",
         "11.0",
         "3.2",
         "1.5",
         "0.8",
         "2.14",
         "3.99",
         "1.6",
         " 0.9",
         "41.7",
         "23.3",
         "2.94",
         "2.11",
         "1.8",
         "2.1",
         "6.8",
         "Nuggets",
         "2023-02-02",
         "2023-02-07",
         "5.0",
         "Sprained_ankle"
        ],
        [
         "4",
         "1628988",
         "Aaron Holiday",
         "22-23",
         "22.5",
         "26.0",
         " 72",
         " 185",
         "57",
         "13.7",
         "0.128",
         "103.64",
         "1680",
         "3.5",
         "3.4",
         "1.3",
         "1.7",
         "1.05",
         "4.28",
         "1.0",
         " 0.3",
         "20.6",
         "8.0",
         "4.17",
         "3.82",
         "0.1",
         "0.0",
         "0.4",
         "Knicks",
         "2022-04-10",
         "2020-07-31",
         "4.0",
         "Sprained_ankle"
        ]
       ],
       "shape": {
        "columns": 32,
        "rows": 5
       }
      },
      "text/html": [
       "<div>\n",
       "<style scoped>\n",
       "    .dataframe tbody tr th:only-of-type {\n",
       "        vertical-align: middle;\n",
       "    }\n",
       "\n",
       "    .dataframe tbody tr th {\n",
       "        vertical-align: top;\n",
       "    }\n",
       "\n",
       "    .dataframe thead th {\n",
       "        text-align: right;\n",
       "    }\n",
       "</style>\n",
       "<table border=\"1\" class=\"dataframe\">\n",
       "  <thead>\n",
       "    <tr style=\"text-align: right;\">\n",
       "      <th></th>\n",
       "      <th>PLAYER_ID</th>\n",
       "      <th>PLAYER_NAME</th>\n",
       "      <th>SEASON</th>\n",
       "      <th>SEASON_NUM</th>\n",
       "      <th>AGE</th>\n",
       "      <th>PLAYER_HEIGHT_INCHES</th>\n",
       "      <th>PLAYER_WEIGHT</th>\n",
       "      <th>GP</th>\n",
       "      <th>MIN</th>\n",
       "      <th>USG_PCT</th>\n",
       "      <th>...</th>\n",
       "      <th>AVG_SEC_PER_TOUCH</th>\n",
       "      <th>AVG_DRIB_PER_TOUCH</th>\n",
       "      <th>ELBOW_TOUCHES</th>\n",
       "      <th>POST_TOUCHES</th>\n",
       "      <th>PAINT_TOUCHES</th>\n",
       "      <th>TEAM</th>\n",
       "      <th>INJURED ON</th>\n",
       "      <th>RETURNED</th>\n",
       "      <th>DAYS MISSED</th>\n",
       "      <th>INJURED_TYPE</th>\n",
       "    </tr>\n",
       "  </thead>\n",
       "  <tbody>\n",
       "    <tr>\n",
       "      <th>0</th>\n",
       "      <td>1630639</td>\n",
       "      <td>A.J. Lawson</td>\n",
       "      <td>22-23</td>\n",
       "      <td>22.5</td>\n",
       "      <td>22.0</td>\n",
       "      <td>78</td>\n",
       "      <td>179</td>\n",
       "      <td>13</td>\n",
       "      <td>4.8</td>\n",
       "      <td>0.182</td>\n",
       "      <td>...</td>\n",
       "      <td>1.39</td>\n",
       "      <td>0.62</td>\n",
       "      <td>0.0</td>\n",
       "      <td>0.0</td>\n",
       "      <td>0.2</td>\n",
       "      <td>Knicks</td>\n",
       "      <td>2022-04-10</td>\n",
       "      <td>2020-07-31</td>\n",
       "      <td>4.0</td>\n",
       "      <td>Sprained_ankle</td>\n",
       "    </tr>\n",
       "    <tr>\n",
       "      <th>1</th>\n",
       "      <td>1631260</td>\n",
       "      <td>AJ Green</td>\n",
       "      <td>22-23</td>\n",
       "      <td>22.5</td>\n",
       "      <td>23.0</td>\n",
       "      <td>77</td>\n",
       "      <td>190</td>\n",
       "      <td>32</td>\n",
       "      <td>9.4</td>\n",
       "      <td>0.160</td>\n",
       "      <td>...</td>\n",
       "      <td>2.61</td>\n",
       "      <td>1.84</td>\n",
       "      <td>0.1</td>\n",
       "      <td>0.0</td>\n",
       "      <td>0.3</td>\n",
       "      <td>Knicks</td>\n",
       "      <td>2022-04-10</td>\n",
       "      <td>2020-07-31</td>\n",
       "      <td>4.0</td>\n",
       "      <td>Sprained_ankle</td>\n",
       "    </tr>\n",
       "    <tr>\n",
       "      <th>2</th>\n",
       "      <td>1631100</td>\n",
       "      <td>AJ Griffin</td>\n",
       "      <td>22-23</td>\n",
       "      <td>22.5</td>\n",
       "      <td>19.0</td>\n",
       "      <td>78</td>\n",
       "      <td>220</td>\n",
       "      <td>66</td>\n",
       "      <td>19.4</td>\n",
       "      <td>0.174</td>\n",
       "      <td>...</td>\n",
       "      <td>2.08</td>\n",
       "      <td>1.49</td>\n",
       "      <td>0.4</td>\n",
       "      <td>0.0</td>\n",
       "      <td>0.7</td>\n",
       "      <td>Knicks</td>\n",
       "      <td>2022-04-10</td>\n",
       "      <td>2020-07-31</td>\n",
       "      <td>4.0</td>\n",
       "      <td>Sprained_ankle</td>\n",
       "    </tr>\n",
       "    <tr>\n",
       "      <th>3</th>\n",
       "      <td>203932</td>\n",
       "      <td>Aaron Gordon</td>\n",
       "      <td>22-23</td>\n",
       "      <td>22.5</td>\n",
       "      <td>27.0</td>\n",
       "      <td>80</td>\n",
       "      <td>235</td>\n",
       "      <td>61</td>\n",
       "      <td>30.1</td>\n",
       "      <td>0.206</td>\n",
       "      <td>...</td>\n",
       "      <td>2.94</td>\n",
       "      <td>2.11</td>\n",
       "      <td>1.8</td>\n",
       "      <td>2.1</td>\n",
       "      <td>6.8</td>\n",
       "      <td>Nuggets</td>\n",
       "      <td>2023-02-02</td>\n",
       "      <td>2023-02-07</td>\n",
       "      <td>5.0</td>\n",
       "      <td>Sprained_ankle</td>\n",
       "    </tr>\n",
       "    <tr>\n",
       "      <th>4</th>\n",
       "      <td>1628988</td>\n",
       "      <td>Aaron Holiday</td>\n",
       "      <td>22-23</td>\n",
       "      <td>22.5</td>\n",
       "      <td>26.0</td>\n",
       "      <td>72</td>\n",
       "      <td>185</td>\n",
       "      <td>57</td>\n",
       "      <td>13.7</td>\n",
       "      <td>0.128</td>\n",
       "      <td>...</td>\n",
       "      <td>4.17</td>\n",
       "      <td>3.82</td>\n",
       "      <td>0.1</td>\n",
       "      <td>0.0</td>\n",
       "      <td>0.4</td>\n",
       "      <td>Knicks</td>\n",
       "      <td>2022-04-10</td>\n",
       "      <td>2020-07-31</td>\n",
       "      <td>4.0</td>\n",
       "      <td>Sprained_ankle</td>\n",
       "    </tr>\n",
       "  </tbody>\n",
       "</table>\n",
       "<p>5 rows × 32 columns</p>\n",
       "</div>"
      ],
      "text/plain": [
       "   PLAYER_ID    PLAYER_NAME SEASON  SEASON_NUM   AGE PLAYER_HEIGHT_INCHES  \\\n",
       "0    1630639    A.J. Lawson  22-23        22.5  22.0                   78   \n",
       "1    1631260       AJ Green  22-23        22.5  23.0                   77   \n",
       "2    1631100     AJ Griffin  22-23        22.5  19.0                   78   \n",
       "3     203932   Aaron Gordon  22-23        22.5  27.0                   80   \n",
       "4    1628988  Aaron Holiday  22-23        22.5  26.0                   72   \n",
       "\n",
       "  PLAYER_WEIGHT  GP   MIN  USG_PCT  ...  AVG_SEC_PER_TOUCH  \\\n",
       "0           179  13   4.8    0.182  ...               1.39   \n",
       "1           190  32   9.4    0.160  ...               2.61   \n",
       "2           220  66  19.4    0.174  ...               2.08   \n",
       "3           235  61  30.1    0.206  ...               2.94   \n",
       "4           185  57  13.7    0.128  ...               4.17   \n",
       "\n",
       "   AVG_DRIB_PER_TOUCH  ELBOW_TOUCHES  POST_TOUCHES  PAINT_TOUCHES     TEAM  \\\n",
       "0                0.62            0.0           0.0            0.2   Knicks   \n",
       "1                1.84            0.1           0.0            0.3   Knicks   \n",
       "2                1.49            0.4           0.0            0.7   Knicks   \n",
       "3                2.11            1.8           2.1            6.8  Nuggets   \n",
       "4                3.82            0.1           0.0            0.4   Knicks   \n",
       "\n",
       "   INJURED ON    RETURNED  DAYS MISSED    INJURED_TYPE  \n",
       "0  2022-04-10  2020-07-31          4.0  Sprained_ankle  \n",
       "1  2022-04-10  2020-07-31          4.0  Sprained_ankle  \n",
       "2  2022-04-10  2020-07-31          4.0  Sprained_ankle  \n",
       "3  2023-02-02  2023-02-07          5.0  Sprained_ankle  \n",
       "4  2022-04-10  2020-07-31          4.0  Sprained_ankle  \n",
       "\n",
       "[5 rows x 32 columns]"
      ]
     },
     "execution_count": 12,
     "metadata": {},
     "output_type": "execute_result"
    }
   ],
   "source": [
    "import pandas as pd\n",
    "\n",
    "df = pd.read_csv('data/player_stats_injuries_clean.csv')\n",
    "\n",
    "df.head()\n"
   ]
  },
  {
   "cell_type": "markdown",
   "id": "ab219ecc",
   "metadata": {},
   "source": [
    "Check for Duplicates (attention: in our data set possible to have the same person but a different injury or the same person having the same injury a second time)"
   ]
  },
  {
   "cell_type": "code",
   "execution_count": 13,
   "id": "7e2bcf85",
   "metadata": {},
   "outputs": [
    {
     "name": "stdout",
     "output_type": "stream",
     "text": [
      "Empty DataFrame\n",
      "Columns: [PLAYER_ID, PLAYER_NAME, SEASON, SEASON_NUM, AGE, PLAYER_HEIGHT_INCHES, PLAYER_WEIGHT, GP, MIN, USG_PCT, PACE, POSS, FGA_PG, DRIVES, DRIVE_FGA, DRIVE_PASSES, DIST_MILES, AVG_SPEED, PULL_UP_FGA, PULL_UP_FG3A, TOUCHES, FRONT_CT_TOUCHES, AVG_SEC_PER_TOUCH, AVG_DRIB_PER_TOUCH, ELBOW_TOUCHES, POST_TOUCHES, PAINT_TOUCHES, TEAM, INJURED ON, RETURNED, DAYS MISSED, INJURED_TYPE]\n",
      "Index: []\n",
      "\n",
      "[0 rows x 32 columns]\n"
     ]
    }
   ],
   "source": [
    "duplicates = df[df.duplicated()]\n",
    "print(duplicates)"
   ]
  },
  {
   "cell_type": "markdown",
   "id": "34f18a8a",
   "metadata": {},
   "source": [
    "No ducplicates were found.\n",
    "But, we noticed that there is data for the same players but from different seasons. \n",
    "-> different/same injuries in different seasons but for the same player"
   ]
  },
  {
   "cell_type": "markdown",
   "id": "ea935c1d",
   "metadata": {},
   "source": [
    "Handle missing Values (figure out what to do with them!)\n"
   ]
  },
  {
   "cell_type": "code",
   "execution_count": null,
   "id": "75e82a20",
   "metadata": {},
   "outputs": [
    {
     "name": "stdout",
     "output_type": "stream",
     "text": [
      "missing: 0       0\n",
      "1       0\n",
      "2       0\n",
      "3       0\n",
      "4       0\n",
      "       ..\n",
      "5573    0\n",
      "5574    0\n",
      "5575    0\n",
      "5576    0\n",
      "5577    0\n",
      "Length: 5578, dtype: int64\n"
     ]
    }
   ],
   "source": [
    "#Missing values in columns\n",
    "missing_values = df.isna().sum()\n",
    "print(missing_values)\n",
    "\n",
    "#Missing values in the whole dataset\n",
    "total_missing_values = df.isnull().sum().sum()\n",
    "print('total:',total_missing_values)\n",
    "\n",
    "#Missing values in rows\n",
    "missing_values_per_row = df.isnull().sum(axis=1)\n",
    "print('missing:',missing_values_per_row)\n"
   ]
  },
  {
   "cell_type": "markdown",
   "id": "77a83558",
   "metadata": {},
   "source": [
    "Create the Injury_Severity Column based on missing days"
   ]
  },
  {
   "cell_type": "code",
   "execution_count": 22,
   "id": "edd61be1",
   "metadata": {},
   "outputs": [
    {
     "name": "stdout",
     "output_type": "stream",
     "text": [
      "   PLAYER_ID    PLAYER_NAME SEASON  SEASON_NUM   AGE PLAYER_HEIGHT_INCHES  \\\n",
      "0    1630639    A.J. Lawson  22-23        22.5  22.0                   78   \n",
      "1    1631260       AJ Green  22-23        22.5  23.0                   77   \n",
      "2    1631100     AJ Griffin  22-23        22.5  19.0                   78   \n",
      "3     203932   Aaron Gordon  22-23        22.5  27.0                   80   \n",
      "4    1628988  Aaron Holiday  22-23        22.5  26.0                   72   \n",
      "\n",
      "  PLAYER_WEIGHT  GP   MIN  USG_PCT  ...  AVG_DRIB_PER_TOUCH  ELBOW_TOUCHES  \\\n",
      "0           179  13   4.8    0.182  ...                0.62            0.0   \n",
      "1           190  32   9.4    0.160  ...                1.84            0.1   \n",
      "2           220  66  19.4    0.174  ...                1.49            0.4   \n",
      "3           235  61  30.1    0.206  ...                2.11            1.8   \n",
      "4           185  57  13.7    0.128  ...                3.82            0.1   \n",
      "\n",
      "   POST_TOUCHES  PAINT_TOUCHES     TEAM  INJURED ON    RETURNED DAYS MISSED  \\\n",
      "0           0.0            0.2   Knicks  2022-04-10  2020-07-31         4.0   \n",
      "1           0.0            0.3   Knicks  2022-04-10  2020-07-31         4.0   \n",
      "2           0.0            0.7   Knicks  2022-04-10  2020-07-31         4.0   \n",
      "3           2.1            6.8  Nuggets  2023-02-02  2023-02-07         5.0   \n",
      "4           0.0            0.4   Knicks  2022-04-10  2020-07-31         4.0   \n",
      "\n",
      "     INJURED_TYPE Injury_Severity  \n",
      "0  Sprained_ankle        Moderate  \n",
      "1  Sprained_ankle        Moderate  \n",
      "2  Sprained_ankle        Moderate  \n",
      "3  Sprained_ankle        Moderate  \n",
      "4  Sprained_ankle        Moderate  \n",
      "\n",
      "[5 rows x 33 columns]\n"
     ]
    }
   ],
   "source": [
    "\n",
    "# Define the function to categorize injury severity\n",
    "def categorize_injury_severity(days_missed):\n",
    "    if days_missed <= 3:\n",
    "        return 'Mild'\n",
    "    elif days_missed <= 7:\n",
    "        return 'Moderate'\n",
    "    elif days_missed <= 14:\n",
    "        return 'Severe'\n",
    "    else:\n",
    "        return 'Grave'\n",
    "\n",
    "# Apply the function to create the Injury_Severity column\n",
    "df['Injury_Severity'] = df['DAYS MISSED'].apply(categorize_injury_severity)\n",
    "\n",
    "# Display the first few rows of the updated dataset\n",
    "print(df.head())\n",
    "\n",
    "# Save the updated dataset\n",
    "df.to_csv('updated_player_stats_injuries.csv', index=False)\n"
   ]
  }
 ],
 "metadata": {
  "kernelspec": {
   "display_name": "for_programming",
   "language": "python",
   "name": "python3"
  },
  "language_info": {
   "codemirror_mode": {
    "name": "ipython",
    "version": 3
   },
   "file_extension": ".py",
   "mimetype": "text/x-python",
   "name": "python",
   "nbconvert_exporter": "python",
   "pygments_lexer": "ipython3",
   "version": "3.13.0"
  }
 },
 "nbformat": 4,
 "nbformat_minor": 5
}
